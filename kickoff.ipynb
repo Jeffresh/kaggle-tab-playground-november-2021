{
 "cells": [
  {
   "cell_type": "markdown",
   "metadata": {},
   "source": [
    "# Kickoff\n",
    "\n",
    "First approach to the problem \n"
   ]
  },
  {
   "cell_type": "markdown",
   "metadata": {},
   "source": [
    "## Imports  \n"
   ]
  },
  {
   "cell_type": "code",
   "execution_count": 1,
   "metadata": {},
   "outputs": [],
   "source": [
    "import numpy as np \n",
    "import pandas as pd \n",
    "import matplotlib.pyplot as plt"
   ]
  },
  {
   "cell_type": "code",
   "execution_count": 3,
   "metadata": {},
   "outputs": [],
   "source": [
    "df = pd.read_csv('datasets/train.csv')"
   ]
  },
  {
   "cell_type": "code",
   "execution_count": 5,
   "metadata": {},
   "outputs": [
    {
     "data": {
      "text/plain": [
       "(600000, 102)"
      ]
     },
     "execution_count": 5,
     "metadata": {},
     "output_type": "execute_result"
    }
   ],
   "source": [
    "df.shape"
   ]
  },
  {
   "cell_type": "code",
   "execution_count": 4,
   "metadata": {},
   "outputs": [
    {
     "data": {
      "text/html": [
       "<div>\n",
       "<style scoped>\n",
       "    .dataframe tbody tr th:only-of-type {\n",
       "        vertical-align: middle;\n",
       "    }\n",
       "\n",
       "    .dataframe tbody tr th {\n",
       "        vertical-align: top;\n",
       "    }\n",
       "\n",
       "    .dataframe thead th {\n",
       "        text-align: right;\n",
       "    }\n",
       "</style>\n",
       "<table border=\"1\" class=\"dataframe\">\n",
       "  <thead>\n",
       "    <tr style=\"text-align: right;\">\n",
       "      <th></th>\n",
       "      <th>id</th>\n",
       "      <th>f0</th>\n",
       "      <th>f1</th>\n",
       "      <th>f2</th>\n",
       "      <th>f3</th>\n",
       "      <th>f4</th>\n",
       "      <th>f5</th>\n",
       "      <th>f6</th>\n",
       "      <th>f7</th>\n",
       "      <th>f8</th>\n",
       "      <th>...</th>\n",
       "      <th>f91</th>\n",
       "      <th>f92</th>\n",
       "      <th>f93</th>\n",
       "      <th>f94</th>\n",
       "      <th>f95</th>\n",
       "      <th>f96</th>\n",
       "      <th>f97</th>\n",
       "      <th>f98</th>\n",
       "      <th>f99</th>\n",
       "      <th>target</th>\n",
       "    </tr>\n",
       "  </thead>\n",
       "  <tbody>\n",
       "    <tr>\n",
       "      <th>0</th>\n",
       "      <td>0</td>\n",
       "      <td>0.106643</td>\n",
       "      <td>3.59437</td>\n",
       "      <td>132.8040</td>\n",
       "      <td>3.18428</td>\n",
       "      <td>0.081971</td>\n",
       "      <td>1.18859</td>\n",
       "      <td>3.73238</td>\n",
       "      <td>2.266270</td>\n",
       "      <td>2.09959</td>\n",
       "      <td>...</td>\n",
       "      <td>1.09862</td>\n",
       "      <td>0.013331</td>\n",
       "      <td>-0.011715</td>\n",
       "      <td>0.052759</td>\n",
       "      <td>0.065400</td>\n",
       "      <td>4.211250</td>\n",
       "      <td>1.97877</td>\n",
       "      <td>0.085974</td>\n",
       "      <td>0.240496</td>\n",
       "      <td>0</td>\n",
       "    </tr>\n",
       "    <tr>\n",
       "      <th>1</th>\n",
       "      <td>1</td>\n",
       "      <td>0.125021</td>\n",
       "      <td>1.67336</td>\n",
       "      <td>76.5336</td>\n",
       "      <td>3.37825</td>\n",
       "      <td>0.099400</td>\n",
       "      <td>5.09366</td>\n",
       "      <td>1.27562</td>\n",
       "      <td>-0.471318</td>\n",
       "      <td>4.54594</td>\n",
       "      <td>...</td>\n",
       "      <td>3.46017</td>\n",
       "      <td>0.017054</td>\n",
       "      <td>0.124863</td>\n",
       "      <td>0.154064</td>\n",
       "      <td>0.606848</td>\n",
       "      <td>-0.267928</td>\n",
       "      <td>2.57786</td>\n",
       "      <td>-0.020877</td>\n",
       "      <td>0.024719</td>\n",
       "      <td>0</td>\n",
       "    </tr>\n",
       "    <tr>\n",
       "      <th>2</th>\n",
       "      <td>2</td>\n",
       "      <td>0.036330</td>\n",
       "      <td>1.49747</td>\n",
       "      <td>233.5460</td>\n",
       "      <td>2.19435</td>\n",
       "      <td>0.026914</td>\n",
       "      <td>3.12694</td>\n",
       "      <td>5.05687</td>\n",
       "      <td>3.849460</td>\n",
       "      <td>1.80187</td>\n",
       "      <td>...</td>\n",
       "      <td>4.88300</td>\n",
       "      <td>0.085222</td>\n",
       "      <td>0.032396</td>\n",
       "      <td>0.116092</td>\n",
       "      <td>-0.001688</td>\n",
       "      <td>-0.520069</td>\n",
       "      <td>2.14112</td>\n",
       "      <td>0.124464</td>\n",
       "      <td>0.148209</td>\n",
       "      <td>0</td>\n",
       "    </tr>\n",
       "    <tr>\n",
       "      <th>3</th>\n",
       "      <td>3</td>\n",
       "      <td>-0.014077</td>\n",
       "      <td>0.24600</td>\n",
       "      <td>779.9670</td>\n",
       "      <td>1.89064</td>\n",
       "      <td>0.006948</td>\n",
       "      <td>1.53112</td>\n",
       "      <td>2.69800</td>\n",
       "      <td>4.517330</td>\n",
       "      <td>4.50332</td>\n",
       "      <td>...</td>\n",
       "      <td>3.47439</td>\n",
       "      <td>-0.017103</td>\n",
       "      <td>-0.008100</td>\n",
       "      <td>0.062013</td>\n",
       "      <td>0.041193</td>\n",
       "      <td>0.511657</td>\n",
       "      <td>1.96860</td>\n",
       "      <td>0.040017</td>\n",
       "      <td>0.044873</td>\n",
       "      <td>0</td>\n",
       "    </tr>\n",
       "    <tr>\n",
       "      <th>4</th>\n",
       "      <td>4</td>\n",
       "      <td>-0.003259</td>\n",
       "      <td>3.71542</td>\n",
       "      <td>156.1280</td>\n",
       "      <td>2.14772</td>\n",
       "      <td>0.018284</td>\n",
       "      <td>2.09859</td>\n",
       "      <td>4.15492</td>\n",
       "      <td>-0.038236</td>\n",
       "      <td>3.37145</td>\n",
       "      <td>...</td>\n",
       "      <td>1.91059</td>\n",
       "      <td>-0.042943</td>\n",
       "      <td>0.105616</td>\n",
       "      <td>0.125072</td>\n",
       "      <td>0.037509</td>\n",
       "      <td>1.043790</td>\n",
       "      <td>1.07481</td>\n",
       "      <td>-0.012819</td>\n",
       "      <td>0.072798</td>\n",
       "      <td>1</td>\n",
       "    </tr>\n",
       "  </tbody>\n",
       "</table>\n",
       "<p>5 rows × 102 columns</p>\n",
       "</div>"
      ],
      "text/plain": [
       "   id        f0       f1        f2       f3        f4       f5       f6  \\\n",
       "0   0  0.106643  3.59437  132.8040  3.18428  0.081971  1.18859  3.73238   \n",
       "1   1  0.125021  1.67336   76.5336  3.37825  0.099400  5.09366  1.27562   \n",
       "2   2  0.036330  1.49747  233.5460  2.19435  0.026914  3.12694  5.05687   \n",
       "3   3 -0.014077  0.24600  779.9670  1.89064  0.006948  1.53112  2.69800   \n",
       "4   4 -0.003259  3.71542  156.1280  2.14772  0.018284  2.09859  4.15492   \n",
       "\n",
       "         f7       f8  ...      f91       f92       f93       f94       f95  \\\n",
       "0  2.266270  2.09959  ...  1.09862  0.013331 -0.011715  0.052759  0.065400   \n",
       "1 -0.471318  4.54594  ...  3.46017  0.017054  0.124863  0.154064  0.606848   \n",
       "2  3.849460  1.80187  ...  4.88300  0.085222  0.032396  0.116092 -0.001688   \n",
       "3  4.517330  4.50332  ...  3.47439 -0.017103 -0.008100  0.062013  0.041193   \n",
       "4 -0.038236  3.37145  ...  1.91059 -0.042943  0.105616  0.125072  0.037509   \n",
       "\n",
       "        f96      f97       f98       f99  target  \n",
       "0  4.211250  1.97877  0.085974  0.240496       0  \n",
       "1 -0.267928  2.57786 -0.020877  0.024719       0  \n",
       "2 -0.520069  2.14112  0.124464  0.148209       0  \n",
       "3  0.511657  1.96860  0.040017  0.044873       0  \n",
       "4  1.043790  1.07481 -0.012819  0.072798       1  \n",
       "\n",
       "[5 rows x 102 columns]"
      ]
     },
     "execution_count": 4,
     "metadata": {},
     "output_type": "execute_result"
    }
   ],
   "source": [
    "df.head()"
   ]
  },
  {
   "cell_type": "code",
   "execution_count": 6,
   "metadata": {},
   "outputs": [
    {
     "data": {
      "text/html": [
       "<div>\n",
       "<style scoped>\n",
       "    .dataframe tbody tr th:only-of-type {\n",
       "        vertical-align: middle;\n",
       "    }\n",
       "\n",
       "    .dataframe tbody tr th {\n",
       "        vertical-align: top;\n",
       "    }\n",
       "\n",
       "    .dataframe thead th {\n",
       "        text-align: right;\n",
       "    }\n",
       "</style>\n",
       "<table border=\"1\" class=\"dataframe\">\n",
       "  <thead>\n",
       "    <tr style=\"text-align: right;\">\n",
       "      <th></th>\n",
       "      <th>id</th>\n",
       "      <th>f0</th>\n",
       "      <th>f1</th>\n",
       "      <th>f2</th>\n",
       "      <th>f3</th>\n",
       "      <th>f4</th>\n",
       "      <th>f5</th>\n",
       "      <th>f6</th>\n",
       "      <th>f7</th>\n",
       "      <th>f8</th>\n",
       "      <th>...</th>\n",
       "      <th>f91</th>\n",
       "      <th>f92</th>\n",
       "      <th>f93</th>\n",
       "      <th>f94</th>\n",
       "      <th>f95</th>\n",
       "      <th>f96</th>\n",
       "      <th>f97</th>\n",
       "      <th>f98</th>\n",
       "      <th>f99</th>\n",
       "      <th>target</th>\n",
       "    </tr>\n",
       "  </thead>\n",
       "  <tbody>\n",
       "    <tr>\n",
       "      <th>count</th>\n",
       "      <td>600000.000000</td>\n",
       "      <td>600000.000000</td>\n",
       "      <td>600000.000000</td>\n",
       "      <td>600000.000000</td>\n",
       "      <td>600000.000000</td>\n",
       "      <td>600000.000000</td>\n",
       "      <td>600000.000000</td>\n",
       "      <td>600000.000000</td>\n",
       "      <td>600000.000000</td>\n",
       "      <td>600000.000000</td>\n",
       "      <td>...</td>\n",
       "      <td>600000.000000</td>\n",
       "      <td>600000.000000</td>\n",
       "      <td>600000.000000</td>\n",
       "      <td>600000.000000</td>\n",
       "      <td>600000.000000</td>\n",
       "      <td>600000.000000</td>\n",
       "      <td>600000.000000</td>\n",
       "      <td>600000.000000</td>\n",
       "      <td>600000.000000</td>\n",
       "      <td>600000.000000</td>\n",
       "    </tr>\n",
       "    <tr>\n",
       "      <th>mean</th>\n",
       "      <td>299999.500000</td>\n",
       "      <td>0.306508</td>\n",
       "      <td>2.497590</td>\n",
       "      <td>306.644536</td>\n",
       "      <td>2.647901</td>\n",
       "      <td>0.177850</td>\n",
       "      <td>2.556832</td>\n",
       "      <td>2.699650</td>\n",
       "      <td>2.571593</td>\n",
       "      <td>2.538273</td>\n",
       "      <td>...</td>\n",
       "      <td>2.444471</td>\n",
       "      <td>0.155260</td>\n",
       "      <td>0.059407</td>\n",
       "      <td>0.144932</td>\n",
       "      <td>0.106419</td>\n",
       "      <td>2.547853</td>\n",
       "      <td>2.590159</td>\n",
       "      <td>0.158881</td>\n",
       "      <td>0.123048</td>\n",
       "      <td>0.506010</td>\n",
       "    </tr>\n",
       "    <tr>\n",
       "      <th>std</th>\n",
       "      <td>173205.225094</td>\n",
       "      <td>0.522450</td>\n",
       "      <td>1.554018</td>\n",
       "      <td>551.743893</td>\n",
       "      <td>1.544529</td>\n",
       "      <td>0.417488</td>\n",
       "      <td>1.562527</td>\n",
       "      <td>1.564000</td>\n",
       "      <td>1.549361</td>\n",
       "      <td>1.532988</td>\n",
       "      <td>...</td>\n",
       "      <td>1.542509</td>\n",
       "      <td>0.548397</td>\n",
       "      <td>0.119426</td>\n",
       "      <td>0.462015</td>\n",
       "      <td>0.209128</td>\n",
       "      <td>1.558427</td>\n",
       "      <td>1.525091</td>\n",
       "      <td>0.436190</td>\n",
       "      <td>0.264896</td>\n",
       "      <td>0.499964</td>\n",
       "    </tr>\n",
       "    <tr>\n",
       "      <th>min</th>\n",
       "      <td>0.000000</td>\n",
       "      <td>-3.797450</td>\n",
       "      <td>-1.223960</td>\n",
       "      <td>-1842.530000</td>\n",
       "      <td>-1.368560</td>\n",
       "      <td>-3.206210</td>\n",
       "      <td>-1.169770</td>\n",
       "      <td>-1.059310</td>\n",
       "      <td>-1.281970</td>\n",
       "      <td>-1.242020</td>\n",
       "      <td>...</td>\n",
       "      <td>-1.217700</td>\n",
       "      <td>-9.761770</td>\n",
       "      <td>-4.666240</td>\n",
       "      <td>-3.101500</td>\n",
       "      <td>-1.276540</td>\n",
       "      <td>-1.584740</td>\n",
       "      <td>-1.254730</td>\n",
       "      <td>-3.993500</td>\n",
       "      <td>-2.783380</td>\n",
       "      <td>0.000000</td>\n",
       "    </tr>\n",
       "    <tr>\n",
       "      <th>25%</th>\n",
       "      <td>149999.750000</td>\n",
       "      <td>0.026222</td>\n",
       "      <td>1.186237</td>\n",
       "      <td>43.573400</td>\n",
       "      <td>1.442028</td>\n",
       "      <td>0.019709</td>\n",
       "      <td>1.261038</td>\n",
       "      <td>1.385820</td>\n",
       "      <td>1.333848</td>\n",
       "      <td>1.292163</td>\n",
       "      <td>...</td>\n",
       "      <td>1.214177</td>\n",
       "      <td>0.018904</td>\n",
       "      <td>0.024483</td>\n",
       "      <td>0.017055</td>\n",
       "      <td>0.025461</td>\n",
       "      <td>1.247888</td>\n",
       "      <td>1.348078</td>\n",
       "      <td>0.013536</td>\n",
       "      <td>0.018105</td>\n",
       "      <td>0.000000</td>\n",
       "    </tr>\n",
       "    <tr>\n",
       "      <th>50%</th>\n",
       "      <td>299999.500000</td>\n",
       "      <td>0.097788</td>\n",
       "      <td>2.516500</td>\n",
       "      <td>133.626000</td>\n",
       "      <td>2.634130</td>\n",
       "      <td>0.061586</td>\n",
       "      <td>2.590425</td>\n",
       "      <td>2.801255</td>\n",
       "      <td>2.557985</td>\n",
       "      <td>2.475880</td>\n",
       "      <td>...</td>\n",
       "      <td>2.386845</td>\n",
       "      <td>0.068906</td>\n",
       "      <td>0.056649</td>\n",
       "      <td>0.063439</td>\n",
       "      <td>0.062151</td>\n",
       "      <td>2.601940</td>\n",
       "      <td>2.682090</td>\n",
       "      <td>0.058058</td>\n",
       "      <td>0.058471</td>\n",
       "      <td>1.000000</td>\n",
       "    </tr>\n",
       "    <tr>\n",
       "      <th>75%</th>\n",
       "      <td>449999.250000</td>\n",
       "      <td>0.397184</td>\n",
       "      <td>3.787630</td>\n",
       "      <td>302.262250</td>\n",
       "      <td>3.907640</td>\n",
       "      <td>0.112712</td>\n",
       "      <td>3.813662</td>\n",
       "      <td>3.996913</td>\n",
       "      <td>3.823450</td>\n",
       "      <td>3.804360</td>\n",
       "      <td>...</td>\n",
       "      <td>3.693872</td>\n",
       "      <td>0.125165</td>\n",
       "      <td>0.088162</td>\n",
       "      <td>0.113114</td>\n",
       "      <td>0.102016</td>\n",
       "      <td>3.820665</td>\n",
       "      <td>3.839520</td>\n",
       "      <td>0.110718</td>\n",
       "      <td>0.104872</td>\n",
       "      <td>1.000000</td>\n",
       "    </tr>\n",
       "    <tr>\n",
       "      <th>max</th>\n",
       "      <td>599999.000000</td>\n",
       "      <td>8.781500</td>\n",
       "      <td>6.226720</td>\n",
       "      <td>6119.280000</td>\n",
       "      <td>6.521150</td>\n",
       "      <td>8.265470</td>\n",
       "      <td>6.515070</td>\n",
       "      <td>6.586780</td>\n",
       "      <td>6.258770</td>\n",
       "      <td>6.389670</td>\n",
       "      <td>...</td>\n",
       "      <td>6.573890</td>\n",
       "      <td>18.412800</td>\n",
       "      <td>10.211800</td>\n",
       "      <td>8.623270</td>\n",
       "      <td>3.657220</td>\n",
       "      <td>6.254360</td>\n",
       "      <td>6.145300</td>\n",
       "      <td>10.767000</td>\n",
       "      <td>5.988110</td>\n",
       "      <td>1.000000</td>\n",
       "    </tr>\n",
       "  </tbody>\n",
       "</table>\n",
       "<p>8 rows × 102 columns</p>\n",
       "</div>"
      ],
      "text/plain": [
       "                  id             f0             f1             f2  \\\n",
       "count  600000.000000  600000.000000  600000.000000  600000.000000   \n",
       "mean   299999.500000       0.306508       2.497590     306.644536   \n",
       "std    173205.225094       0.522450       1.554018     551.743893   \n",
       "min         0.000000      -3.797450      -1.223960   -1842.530000   \n",
       "25%    149999.750000       0.026222       1.186237      43.573400   \n",
       "50%    299999.500000       0.097788       2.516500     133.626000   \n",
       "75%    449999.250000       0.397184       3.787630     302.262250   \n",
       "max    599999.000000       8.781500       6.226720    6119.280000   \n",
       "\n",
       "                  f3             f4             f5             f6  \\\n",
       "count  600000.000000  600000.000000  600000.000000  600000.000000   \n",
       "mean        2.647901       0.177850       2.556832       2.699650   \n",
       "std         1.544529       0.417488       1.562527       1.564000   \n",
       "min        -1.368560      -3.206210      -1.169770      -1.059310   \n",
       "25%         1.442028       0.019709       1.261038       1.385820   \n",
       "50%         2.634130       0.061586       2.590425       2.801255   \n",
       "75%         3.907640       0.112712       3.813662       3.996913   \n",
       "max         6.521150       8.265470       6.515070       6.586780   \n",
       "\n",
       "                  f7             f8  ...            f91            f92  \\\n",
       "count  600000.000000  600000.000000  ...  600000.000000  600000.000000   \n",
       "mean        2.571593       2.538273  ...       2.444471       0.155260   \n",
       "std         1.549361       1.532988  ...       1.542509       0.548397   \n",
       "min        -1.281970      -1.242020  ...      -1.217700      -9.761770   \n",
       "25%         1.333848       1.292163  ...       1.214177       0.018904   \n",
       "50%         2.557985       2.475880  ...       2.386845       0.068906   \n",
       "75%         3.823450       3.804360  ...       3.693872       0.125165   \n",
       "max         6.258770       6.389670  ...       6.573890      18.412800   \n",
       "\n",
       "                 f93            f94            f95            f96  \\\n",
       "count  600000.000000  600000.000000  600000.000000  600000.000000   \n",
       "mean        0.059407       0.144932       0.106419       2.547853   \n",
       "std         0.119426       0.462015       0.209128       1.558427   \n",
       "min        -4.666240      -3.101500      -1.276540      -1.584740   \n",
       "25%         0.024483       0.017055       0.025461       1.247888   \n",
       "50%         0.056649       0.063439       0.062151       2.601940   \n",
       "75%         0.088162       0.113114       0.102016       3.820665   \n",
       "max        10.211800       8.623270       3.657220       6.254360   \n",
       "\n",
       "                 f97            f98            f99         target  \n",
       "count  600000.000000  600000.000000  600000.000000  600000.000000  \n",
       "mean        2.590159       0.158881       0.123048       0.506010  \n",
       "std         1.525091       0.436190       0.264896       0.499964  \n",
       "min        -1.254730      -3.993500      -2.783380       0.000000  \n",
       "25%         1.348078       0.013536       0.018105       0.000000  \n",
       "50%         2.682090       0.058058       0.058471       1.000000  \n",
       "75%         3.839520       0.110718       0.104872       1.000000  \n",
       "max         6.145300      10.767000       5.988110       1.000000  \n",
       "\n",
       "[8 rows x 102 columns]"
      ]
     },
     "execution_count": 6,
     "metadata": {},
     "output_type": "execute_result"
    }
   ],
   "source": [
    "df.describe()"
   ]
  },
  {
   "cell_type": "markdown",
   "metadata": {},
   "source": [
    "### Equilibrado?\n",
    "\n",
    "Sí "
   ]
  },
  {
   "cell_type": "code",
   "execution_count": 28,
   "metadata": {},
   "outputs": [
    {
     "data": {
      "text/plain": [
       "0.50601"
      ]
     },
     "execution_count": 28,
     "metadata": {},
     "output_type": "execute_result"
    }
   ],
   "source": [
    "df.iloc[:, -1].mean() #"
   ]
  },
  {
   "cell_type": "markdown",
   "metadata": {},
   "source": [
    "### Primer modelo"
   ]
  },
  {
   "cell_type": "code",
   "execution_count": 7,
   "metadata": {},
   "outputs": [],
   "source": [
    "from sklearn.model_selection import train_test_split"
   ]
  },
  {
   "cell_type": "code",
   "execution_count": 16,
   "metadata": {},
   "outputs": [
    {
     "data": {
      "text/plain": [
       "(600000,)"
      ]
     },
     "execution_count": 16,
     "metadata": {},
     "output_type": "execute_result"
    }
   ],
   "source": [
    "X = df.iloc[:, 1:-1]\n",
    "y = df.iloc[:, -1]"
   ]
  },
  {
   "cell_type": "code",
   "execution_count": 45,
   "metadata": {},
   "outputs": [
    {
     "data": {
      "text/plain": [
       "Index(['f0', 'f1', 'f2', 'f3', 'f4', 'f5', 'f6', 'f7', 'f8', 'f9', 'f10',\n",
       "       'f11', 'f12', 'f13', 'f14', 'f15', 'f16', 'f17', 'f18', 'f19', 'f20',\n",
       "       'f21', 'f22', 'f23', 'f24', 'f25', 'f26', 'f27', 'f28', 'f29', 'f30',\n",
       "       'f31', 'f32', 'f33', 'f34', 'f35', 'f36', 'f37', 'f38', 'f39', 'f40',\n",
       "       'f41', 'f42', 'f43', 'f44', 'f45', 'f46', 'f47', 'f48', 'f49', 'f50',\n",
       "       'f51', 'f52', 'f53', 'f54', 'f55', 'f56', 'f57', 'f58', 'f59', 'f60',\n",
       "       'f61', 'f62', 'f63', 'f64', 'f65', 'f66', 'f67', 'f68', 'f69', 'f70',\n",
       "       'f71', 'f72', 'f73', 'f74', 'f75', 'f76', 'f77', 'f78', 'f79', 'f80',\n",
       "       'f81', 'f82', 'f83', 'f84', 'f85', 'f86', 'f87', 'f88', 'f89', 'f90',\n",
       "       'f91', 'f92', 'f93', 'f94', 'f95', 'f96', 'f97', 'f98', 'f99'],\n",
       "      dtype='object')"
      ]
     },
     "execution_count": 45,
     "metadata": {},
     "output_type": "execute_result"
    }
   ],
   "source": [
    "features = X.columns\n",
    "features"
   ]
  },
  {
   "cell_type": "code",
   "execution_count": 26,
   "metadata": {},
   "outputs": [],
   "source": [
    "X_train, X_test, y_train, y_test = train_test_split(X, y, train_size=0.8, random_state=42, stratify=y)"
   ]
  },
  {
   "cell_type": "code",
   "execution_count": 18,
   "metadata": {},
   "outputs": [],
   "source": [
    "from sklearn.linear_model import SGDClassifier"
   ]
  },
  {
   "cell_type": "code",
   "execution_count": 21,
   "metadata": {},
   "outputs": [],
   "source": [
    "from sklearn.preprocessing import StandardScaler\n",
    "from sklearn.model_selection import GridSearchCV\n",
    "from sklearn.pipeline import Pipeline"
   ]
  },
  {
   "cell_type": "code",
   "execution_count": 23,
   "metadata": {},
   "outputs": [],
   "source": [
    "sgd_clf_pl = Pipeline([\n",
    "    ('std', StandardScaler()),\n",
    "    ('sgd_clf', SGDClassifier(random_state=42))\n",
    "])"
   ]
  },
  {
   "cell_type": "code",
   "execution_count": 24,
   "metadata": {},
   "outputs": [],
   "source": [
    "from sklearn.model_selection import cross_val_score"
   ]
  },
  {
   "cell_type": "code",
   "execution_count": 27,
   "metadata": {},
   "outputs": [
    {
     "data": {
      "text/plain": [
       "array([0.71185417, 0.71347917, 0.71254167, 0.706375  , 0.708125  ])"
      ]
     },
     "execution_count": 27,
     "metadata": {},
     "output_type": "execute_result"
    }
   ],
   "source": [
    "cross_val_score(sgd_clf_pl, X_train, y_train, cv=5, scoring='accuracy')"
   ]
  },
  {
   "cell_type": "code",
   "execution_count": 41,
   "metadata": {},
   "outputs": [],
   "source": [
    "from sklearn.model_selection import cross_val_predict\n",
    "\n",
    "y_scores = cross_val_predict(sgd_clf_pl, X_train, y_train, cv=5)"
   ]
  },
  {
   "cell_type": "code",
   "execution_count": 31,
   "metadata": {},
   "outputs": [],
   "source": [
    "from sklearn.metrics import confusion_matrix"
   ]
  },
  {
   "cell_type": "code",
   "execution_count": 43,
   "metadata": {},
   "outputs": [
    {
     "data": {
      "text/plain": [
       "array([[165621,  71494],\n",
       "       [ 67478, 175407]], dtype=int64)"
      ]
     },
     "execution_count": 43,
     "metadata": {},
     "output_type": "execute_result"
    }
   ],
   "source": [
    "conf_mat = confusion_matrix(y_train, y_scores)\n",
    "conf_mat"
   ]
  },
  {
   "cell_type": "code",
   "execution_count": 39,
   "metadata": {},
   "outputs": [],
   "source": [
    "from sklearn.metrics import roc_auc_score"
   ]
  },
  {
   "cell_type": "code",
   "execution_count": 42,
   "metadata": {},
   "outputs": [
    {
     "data": {
      "text/plain": [
       "0.710332568624887"
      ]
     },
     "execution_count": 42,
     "metadata": {},
     "output_type": "execute_result"
    }
   ],
   "source": [
    "roc_auc_score(y_train, y_scores)"
   ]
  },
  {
   "cell_type": "code",
   "execution_count": 50,
   "metadata": {},
   "outputs": [
    {
     "data": {
      "text/plain": [
       "Pipeline(steps=[('std', StandardScaler()),\n",
       "                ('sgd_clf', SGDClassifier(random_state=42))])"
      ]
     },
     "execution_count": 50,
     "metadata": {},
     "output_type": "execute_result"
    }
   ],
   "source": [
    "sgd_clf_pl.fit(X, y)"
   ]
  },
  {
   "cell_type": "code",
   "execution_count": 65,
   "metadata": {},
   "outputs": [],
   "source": [
    "def create_submission(pipeline, features):\n",
    "    sub_data = pd.read_csv('datasets/test.csv', index_col=0)\n",
    "    X = sub_data[features]\n",
    "    preds = pipeline.predict(X)\n",
    "    sub_df = pd.DataFrame(data={'id':sub_data.index, 'target':preds})\n",
    "    sub_df.to_csv('fst_submission.csv', index=False)\n"
   ]
  },
  {
   "cell_type": "code",
   "execution_count": 66,
   "metadata": {},
   "outputs": [],
   "source": [
    "create_submission(sgd_clf_pl, features)"
   ]
  },
  {
   "cell_type": "code",
   "execution_count": 58,
   "metadata": {},
   "outputs": [
    {
     "data": {
      "text/plain": [
       "Int64Index([ 600000,  600001,  600002,  600003,  600004,  600005,  600006,\n",
       "             600007,  600008,  600009,\n",
       "            ...\n",
       "            1139990, 1139991, 1139992, 1139993, 1139994, 1139995, 1139996,\n",
       "            1139997, 1139998, 1139999],\n",
       "           dtype='int64', name='id', length=540000)"
      ]
     },
     "execution_count": 58,
     "metadata": {},
     "output_type": "execute_result"
    }
   ],
   "source": [
    "sub_data = pd.read_csv('datasets/test.csv', index_col=0)\n",
    "\n",
    "sub_data.index\n"
   ]
  },
  {
   "cell_type": "code",
   "execution_count": 63,
   "metadata": {},
   "outputs": [
    {
     "data": {
      "text/html": [
       "<div>\n",
       "<style scoped>\n",
       "    .dataframe tbody tr th:only-of-type {\n",
       "        vertical-align: middle;\n",
       "    }\n",
       "\n",
       "    .dataframe tbody tr th {\n",
       "        vertical-align: top;\n",
       "    }\n",
       "\n",
       "    .dataframe thead th {\n",
       "        text-align: right;\n",
       "    }\n",
       "</style>\n",
       "<table border=\"1\" class=\"dataframe\">\n",
       "  <thead>\n",
       "    <tr style=\"text-align: right;\">\n",
       "      <th></th>\n",
       "      <th>id</th>\n",
       "    </tr>\n",
       "  </thead>\n",
       "  <tbody>\n",
       "    <tr>\n",
       "      <th>0</th>\n",
       "      <td>600000</td>\n",
       "    </tr>\n",
       "    <tr>\n",
       "      <th>1</th>\n",
       "      <td>600001</td>\n",
       "    </tr>\n",
       "    <tr>\n",
       "      <th>2</th>\n",
       "      <td>600002</td>\n",
       "    </tr>\n",
       "    <tr>\n",
       "      <th>3</th>\n",
       "      <td>600003</td>\n",
       "    </tr>\n",
       "    <tr>\n",
       "      <th>4</th>\n",
       "      <td>600004</td>\n",
       "    </tr>\n",
       "    <tr>\n",
       "      <th>...</th>\n",
       "      <td>...</td>\n",
       "    </tr>\n",
       "    <tr>\n",
       "      <th>539995</th>\n",
       "      <td>1139995</td>\n",
       "    </tr>\n",
       "    <tr>\n",
       "      <th>539996</th>\n",
       "      <td>1139996</td>\n",
       "    </tr>\n",
       "    <tr>\n",
       "      <th>539997</th>\n",
       "      <td>1139997</td>\n",
       "    </tr>\n",
       "    <tr>\n",
       "      <th>539998</th>\n",
       "      <td>1139998</td>\n",
       "    </tr>\n",
       "    <tr>\n",
       "      <th>539999</th>\n",
       "      <td>1139999</td>\n",
       "    </tr>\n",
       "  </tbody>\n",
       "</table>\n",
       "<p>540000 rows × 1 columns</p>\n",
       "</div>"
      ],
      "text/plain": [
       "             id\n",
       "0        600000\n",
       "1        600001\n",
       "2        600002\n",
       "3        600003\n",
       "4        600004\n",
       "...         ...\n",
       "539995  1139995\n",
       "539996  1139996\n",
       "539997  1139997\n",
       "539998  1139998\n",
       "539999  1139999\n",
       "\n",
       "[540000 rows x 1 columns]"
      ]
     },
     "execution_count": 63,
     "metadata": {},
     "output_type": "execute_result"
    }
   ],
   "source": [
    "pd.DataFrame(data={'id':sub_data.index})"
   ]
  },
  {
   "cell_type": "code",
   "execution_count": null,
   "metadata": {},
   "outputs": [],
   "source": []
  }
 ],
 "metadata": {
  "interpreter": {
   "hash": "b223dc67b00732b2d3d24787fe9858d2e5736dd814f18cb6904d28fb7e765fcb"
  },
  "kernelspec": {
   "display_name": "Python 3.9.9 64-bit ('.env': venv)",
   "language": "python",
   "name": "python3"
  },
  "language_info": {
   "codemirror_mode": {
    "name": "ipython",
    "version": 3
   },
   "file_extension": ".py",
   "mimetype": "text/x-python",
   "name": "python",
   "nbconvert_exporter": "python",
   "pygments_lexer": "ipython3",
   "version": "3.9.9"
  },
  "orig_nbformat": 4
 },
 "nbformat": 4,
 "nbformat_minor": 2
}
